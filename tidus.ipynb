{
 "cells": [
  {
   "cell_type": "code",
   "execution_count": 1,
   "id": "5987ceb4",
   "metadata": {},
   "outputs": [],
   "source": [
    "from pptx import Presentation\n",
    "from pptx.util  import Pt\n",
    "from pptx.util import Inches\n",
    "from pptx.enum.shapes import MSO_SHAPE\n",
    "from pptx.util import Inches\n",
    "from pptx.util import Inches\n",
    "from pptx.enum.text import MSO_ANCHOR, MSO_AUTO_SIZE\n",
    "\n",
    "prs = Presentation('tidus.pptx')\n",
    "\n",
    "slide = prs.slides.get(381)\n"
   ]
  },
  {
   "cell_type": "code",
   "execution_count": 2,
   "id": "8dd6a57c",
   "metadata": {},
   "outputs": [],
   "source": [
    "mitre_attack = ['Spam\\neggs\\nand\\nspam',\n",
    "                'Spam\\neggs\\nand\\nspam\\nSpam\\neggs\\nand\\nspam',\n",
    "                'Spam\\neggs\\nand\\nspam',\n",
    "                'Spam\\neggs\\nand\\nspam',\n",
    "                'Spam\\neggs\\nand\\nspam']"
   ]
  },
  {
   "cell_type": "code",
   "execution_count": 3,
   "id": "c99cd290",
   "metadata": {},
   "outputs": [],
   "source": [
    "shapes = slide.shapes\n",
    "left = Inches(0.15)\n",
    "top = Inches(2)\n",
    "width = Inches(2)\n",
    "height = Inches(.9)\n",
    "\n",
    "\n",
    "for idx in range(5):\n",
    "    shape = shapes.add_shape(MSO_SHAPE.ROUNDED_RECTANGLE, left, top, width, height)\n",
    "    text_frame = shape.text_frame\n",
    "    \n",
    "    text_frame.margin_bottom = Inches(0.08)\n",
    "    text_frame.margin_left = 0\n",
    "#     text_frame.vertical_anchor = MSO_ANCHOR.TOP\n",
    "    text_frame.word_wrap = False\n",
    "    text_frame.auto_size = MSO_AUTO_SIZE.SHAPE_TO_FIT_TEXT\n",
    "#     text_frame.vertical_anchor = MSO_ANCHOR.TOP\n",
    "    \n",
    "#     text_frame.text = 'Spam\\neggs\\nand\\nspam'\n",
    "    p = text_frame.paragraphs[0]\n",
    "    run = p.add_run()\n",
    "    run.text = mitre_attack[idx] \n",
    "    \n",
    "    font = run.font\n",
    "    font.name = 'Calibri'\n",
    "    font.size = Pt(9)\n",
    "    font.bold = True\n",
    "    font.italic = None\n",
    "    \n",
    "    left = left + Inches(2.5)"
   ]
  },
  {
   "cell_type": "code",
   "execution_count": 4,
   "id": "1747ca62",
   "metadata": {},
   "outputs": [],
   "source": [
    "prs.save('pptx11.pptx')"
   ]
  },
  {
   "cell_type": "code",
   "execution_count": null,
   "id": "0922f9ca",
   "metadata": {},
   "outputs": [],
   "source": []
  }
 ],
 "metadata": {
  "kernelspec": {
   "display_name": "Python 3 (ipykernel)",
   "language": "python",
   "name": "python3"
  },
  "language_info": {
   "codemirror_mode": {
    "name": "ipython",
    "version": 3
   },
   "file_extension": ".py",
   "mimetype": "text/x-python",
   "name": "python",
   "nbconvert_exporter": "python",
   "pygments_lexer": "ipython3",
   "version": "3.9.7"
  }
 },
 "nbformat": 4,
 "nbformat_minor": 5
}

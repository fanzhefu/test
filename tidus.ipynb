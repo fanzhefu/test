{
 "cells": [
  {
   "cell_type": "code",
   "execution_count": 1,
   "id": "593af330",
   "metadata": {},
   "outputs": [],
   "source": [
    "from pptx import Presentation\n",
    "from pptx.util  import Pt\n",
    "from pptx.util import Inches\n",
    "from pptx.enum.shapes import MSO_SHAPE\n",
    "from pptx.util import Inches\n",
    "from pptx.util import Inches\n",
    "from pptx.enum.text import MSO_ANCHOR, MSO_AUTO_SIZE\n",
    "\n",
    "prs = Presentation('tidus.pptx')\n",
    "\n",
    "slide = prs.slides.get(381)\n"
   ]
  },
  {
   "cell_type": "code",
   "execution_count": 2,
   "id": "0f14fe88",
   "metadata": {},
   "outputs": [],
   "source": [
    "shapes = slide.shapes\n",
    "left = Inches(0.15)\n",
    "top = Inches(2)\n",
    "width = Inches(2)\n",
    "height = Inches(.9)\n",
    "\n",
    "for idx in range(5):\n",
    "    shape = shapes.add_shape(MSO_SHAPE.ROUNDED_RECTANGLE, left, top, width, height)\n",
    "    text_frame = shape.text_frame\n",
    "    text_frame.text = 'Spam, eggs, and spam'\n",
    "    text_frame.margin_bottom = Inches(0.08)\n",
    "    text_frame.margin_left = 0\n",
    "    text_frame.vertical_anchor = MSO_ANCHOR.TOP\n",
    "    text_frame.word_wrap = False\n",
    "    text_frame.auto_size = MSO_AUTO_SIZE.SHAPE_TO_FIT_TEXT\n",
    "    left = left + Inches(2.5)"
   ]
  },
  {
   "cell_type": "code",
   "execution_count": 3,
   "id": "ea2b3bcc",
   "metadata": {},
   "outputs": [],
   "source": [
    "prs.save('pptx11.pptx')"
   ]
  }
 ],
 "metadata": {
  "kernelspec": {
   "display_name": "Python 3 (ipykernel)",
   "language": "python",
   "name": "python3"
  },
  "language_info": {
   "codemirror_mode": {
    "name": "ipython",
    "version": 3
   },
   "file_extension": ".py",
   "mimetype": "text/x-python",
   "name": "python",
   "nbconvert_exporter": "python",
   "pygments_lexer": "ipython3",
   "version": "3.9.7"
  }
 },
 "nbformat": 4,
 "nbformat_minor": 5
}
